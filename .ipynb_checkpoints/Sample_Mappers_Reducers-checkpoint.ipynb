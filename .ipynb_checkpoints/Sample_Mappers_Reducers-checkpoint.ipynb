{
 "cells": [
  {
   "cell_type": "markdown",
   "id": "9f4b8c41",
   "metadata": {},
   "source": [
    "## This project"
   ]
  },
  {
   "cell_type": "markdown",
   "id": "7313a6f6",
   "metadata": {},
   "source": [
    "Mapper"
   ]
  },
  {
   "cell_type": "code",
   "execution_count": null,
   "id": "a7db6bc9",
   "metadata": {},
   "outputs": [],
   "source": [
    "#!/usr/bin/env python3\n",
    "\n",
    "# extract Date and Tweet from each entry\n",
    "# An axploration on the data shows that there are no queries associated with any tweet, and username is not something\n",
    "# that will be analysed here, so everything except date and tweet can be dropped from the raw data.\n",
    "\n",
    "# Format of each line is:\n",
    "# tweetID\\Date\\Query\\Username\\Tweet\n",
    "#\n",
    "\n",
    "import sys\n",
    "\n",
    "for line in sys.stdin:\n",
    "        data = line.strip().split(\",\")\n",
    "        if len(data) == 6:\n",
    "                # These are names of the columns/ attributes given to the data file\n",
    "                tweetID, Date, Query, Username, Tweet = data\n",
    "                print(\"{0}\\t{1}\".format(Date, Tweet))"
   ]
  },
  {
   "cell_type": "markdown",
   "id": "60b3eded",
   "metadata": {},
   "source": [
    "Simple reducer"
   ]
  },
  {
   "cell_type": "code",
   "execution_count": null,
   "id": "0d15d20b",
   "metadata": {},
   "outputs": [],
   "source": [
    "#!/usr/bin/env python3\n",
    "\n",
    "import sys\n",
    "\n",
    "tweet = None\n",
    "oldKey = None\n",
    "\n",
    "# It will be in the format key,val\n",
    "# Where key is the date, val is the tweet with all non-alpha characters removed\n",
    "\n",
    "for line in sys.stdin:\n",
    "    data_mapped = line.strip().split(\"\\t\")\n",
    "    if len(data_mapped) != 2:\n",
    "        # Something has gone wrong. Skip this line.\n",
    "        continue\n",
    "\n",
    "    thisKey, thisTweet = data_mapped\n",
    "\n",
    "    if oldKey and oldKey != thisKey:\n",
    "        print(oldKey, \",\", tweet)\n",
    "        oldKey = thisKey;\n",
    "        tweet = re.sub(r'[^\\w\\s]', '', thisTweet)\n",
    "\n",
    "    oldKey = thisKey\n",
    "    tweet = re.sub(r'[^\\w\\s]', '', thisTweet)\n",
    "\n",
    "if oldKey != None:\n",
    "    print(oldKey, \",\", tweet)"
   ]
  },
  {
   "cell_type": "markdown",
   "id": "17492c63",
   "metadata": {},
   "source": [
    "## Samples"
   ]
  },
  {
   "cell_type": "markdown",
   "id": "252523d8",
   "metadata": {},
   "source": [
    "Mapper and reducer 1"
   ]
  },
  {
   "cell_type": "code",
   "execution_count": null,
   "id": "b2ef22e7",
   "metadata": {},
   "outputs": [],
   "source": [
    "#!/usr/bin/env python3\n",
    "\n",
    "# sales breakdown by all stores.\n",
    "\n",
    "# Format of each line is:\n",
    "# date\\ttime\\tstore name\\titem description\\tcost\\tmethod of payment\n",
    "#\n",
    "# We want elements 2 (store name) and 4 (cost)\n",
    "# We need to write them out to standard output, separated by a tab\n",
    "# Find the breaking the sales down by store\n",
    "import sys\n",
    "\n",
    "for line in sys.stdin:\n",
    "        data = line.strip().split(\"\\t\")\n",
    "        if len(data) == 6:\n",
    "                # These are names of the columns/ attributes given to the data file\n",
    "                date, time, store, item, cost, payment = data\n",
    "                print(\"{0}\\t{1}\".format(store, cost))\n"
   ]
  },
  {
   "cell_type": "code",
   "execution_count": null,
   "id": "a53cc9b2",
   "metadata": {},
   "outputs": [],
   "source": [
    "#!/usr/bin/env python3\n",
    "\n",
    "# Instead of breaking the sales down by store, instead give us a sales breakdown by product category across all of our stores.\n",
    "\n",
    "import sys\n",
    "\n",
    "salesTotal = 0\n",
    "oldKey = None\n",
    "\n",
    "# It will be in the format key\\tval\n",
    "# Where key is the store name, val is the sale amount\n",
    "\n",
    "for line in sys.stdin:\n",
    "    data_mapped = line.strip().split(\"\\t\")\n",
    "    if len(data_mapped) != 2:\n",
    "        # Something has gone wrong. Skip this line.\n",
    "        continue\n",
    "\n",
    "    thisKey, thisSale = data_mapped\n",
    "\n",
    "    if oldKey and oldKey != thisKey:\n",
    "        print(oldKey, \"\\t\", salesTotal)\n",
    "        oldKey = thisKey;\n",
    "        salesTotal = 0\n",
    "\n",
    "    oldKey = thisKey\n",
    "    salesTotal += float(thisSale)\n",
    "\n",
    "if oldKey != None:\n",
    "    print(oldKey, \"\\t\", salesTotal)\n"
   ]
  },
  {
   "cell_type": "markdown",
   "id": "286b38a6",
   "metadata": {},
   "source": [
    "Mapper 2"
   ]
  },
  {
   "cell_type": "code",
   "execution_count": null,
   "id": "d7aefb0a",
   "metadata": {},
   "outputs": [],
   "source": [
    "#!/usr/bin/python3\n",
    "\n",
    "# Instead of breaking the sales down by store, instead give us a sales breakdown by product category across all of our stores.\n",
    "\n",
    "# Format of each line is:\n",
    "# date\\ttime\\tstore name\\titem description\\tcost\\tmethod of payment\n",
    "# Find the Sales breakdown by product category across all of our stores in the purchases.txt dataset.\n",
    "\n",
    "import sys\n",
    "\n",
    "for line in sys.stdin:\n",
    "    data = line.strip().split(\"\\t\")\n",
    "    if len(data) == 6:\n",
    "        # These are names of the columns/ attributes given to the data file\n",
    "        date, time, store, item, cost, payment = data\n",
    "        print(\"{0}\\t{1}\".format(item, cost))\n"
   ]
  },
  {
   "cell_type": "code",
   "execution_count": null,
   "id": "93c4708b",
   "metadata": {},
   "outputs": [],
   "source": [
    "#!/usr/bin/env python3\n",
    "\n",
    "# Instead of breaking the sales down by store, instead give us a sales breakdown by product category across all of our stores.\n",
    "\n",
    "import sys\n",
    "\n",
    "salesTotal = 0\n",
    "oldKey = None\n",
    "\n",
    "# It will be in the format key\\tval\n",
    "# Where key is the store name, val is the sale amount\n",
    "\n",
    "for line in sys.stdin:\n",
    "    data_mapped = line.strip().split(\"\\t\")\n",
    "    if len(data_mapped) != 2:\n",
    "        # Something has gone wrong. Skip this line.\n",
    "        continue\n",
    "\n",
    "    thisKey, thisSale = data_mapped\n",
    "\n",
    "    if oldKey and oldKey != thisKey:\n",
    "        print(oldKey, \"\\t\", salesTotal)\n",
    "        oldKey = thisKey;\n",
    "        salesTotal = 0\n",
    "\n",
    "    oldKey = thisKey\n",
    "    salesTotal += float(thisSale)\n",
    "\n",
    "if oldKey != None:\n",
    "    print(oldKey, \"\\t\", salesTotal)\n"
   ]
  },
  {
   "cell_type": "markdown",
   "id": "14e71e91",
   "metadata": {},
   "source": [
    "Mapper 3"
   ]
  },
  {
   "cell_type": "code",
   "execution_count": null,
   "id": "7024f190",
   "metadata": {},
   "outputs": [],
   "source": [
    "#!/usr/bin/env python3\n",
    "\n",
    "# Find the monetary value for the highest individual sale for each separate store.\n",
    "\n",
    "# Format of each line is:\n",
    "# date\\ttime\\tstore name\\titem description\\tcost\\tmethod of payment\n",
    "# Find the monetary value for the highest individual sale for each separate store.\n",
    "\n",
    "import sys\n",
    "\n",
    "for line in sys.stdin:\n",
    "    data = line.strip().split(\"\\t\")\n",
    "    if len(data) == 6:\n",
    "        # These are names of the columns/ attributes given to the data file\n",
    "        date, time, store, item, cost, payment = data\n",
    "        print(\"{0}\\t{1}\".format(store, cost))\n",
    "        "
   ]
  },
  {
   "cell_type": "markdown",
   "id": "2347a10d",
   "metadata": {},
   "source": [
    "Mapper 4"
   ]
  },
  {
   "cell_type": "code",
   "execution_count": null,
   "id": "84bfbf9f",
   "metadata": {},
   "outputs": [],
   "source": [
    "#!/usr/bin/env python3\n",
    "\n",
    "# Find the total sales value across all the stores, and the total number of sales. Assume there is only one reducer.\n",
    "\n",
    "# Format of each line is:\n",
    "# date\\ttime\\tstore name\\titem description\\tcost\\tmethod of payment\n",
    "# Find the total sales value across all the stores, and the total number of sales. Assume there is only one reducer.\n",
    "\n",
    "import sys\n",
    "\n",
    "for line in sys.stdin:\n",
    "    data = line.strip().split(\"\\t\")\n",
    "    if len(data) == 6:\n",
    "        # These are names of the columns/ attributes given to the data file\n",
    "        date, time, store, item, cost, payment = data\n",
    "        print(\"{0}\\t{1}\".format(1, cost))\n"
   ]
  }
 ],
 "metadata": {
  "kernelspec": {
   "display_name": "Python 3 (ipykernel)",
   "language": "python",
   "name": "python3"
  },
  "language_info": {
   "codemirror_mode": {
    "name": "ipython",
    "version": 3
   },
   "file_extension": ".py",
   "mimetype": "text/x-python",
   "name": "python",
   "nbconvert_exporter": "python",
   "pygments_lexer": "ipython3",
   "version": "3.11.5"
  }
 },
 "nbformat": 4,
 "nbformat_minor": 5
}
