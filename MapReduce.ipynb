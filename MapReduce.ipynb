{
 "cells": [
  {
   "cell_type": "markdown",
   "id": "9f4b8c41",
   "metadata": {},
   "source": [
    "## This project"
   ]
  },
  {
   "cell_type": "markdown",
   "id": "7313a6f6",
   "metadata": {},
   "source": [
    "Mapper"
   ]
  },
  {
   "cell_type": "code",
   "execution_count": null,
   "id": "a7db6bc9",
   "metadata": {},
   "outputs": [],
   "source": [
    "#!/usr/bin/env python3\n",
    "\n",
    "# extract Date and Tweet from each entry\n",
    "# An axploration on the data shows that there are no queries associated with any tweet, and username is not something\n",
    "# that will be analysed here, so everything except ID, date and tweet can be dropped from the raw data.\n",
    "\n",
    "# Format of each line is:\n",
    "# Num\\tweetID\\Date\\Query\\Username\\Tweet\n",
    "#\n",
    "\n",
    "import sys\n",
    "\n",
    "for line in sys.stdin:\n",
    "        data = line.strip().split(\",\")\n",
    "        Num = data[0]\n",
    "        tweetID = data[1]\n",
    "        Date = data[2]\n",
    "        Username = data[3]\n",
    "        Tweet = data[4]\n",
    "        if len(data) > 5:\n",
    "            for y in range(5,len(data)):\n",
    "                Tweet = Tweet + data[y]\n",
    "        if len(data) == 6:\n",
    "            # These are names of the attributes given to the data file\n",
    "            Num, tweetID, Date, Query, Username, Tweet = data\n",
    "            print(\"{0},{1}\".format(tweetID, Date, Tweet))            "
   ]
  },
  {
   "cell_type": "markdown",
   "id": "60b3eded",
   "metadata": {},
   "source": [
    "Simple reducer"
   ]
  },
  {
   "cell_type": "code",
   "execution_count": null,
   "id": "0d15d20b",
   "metadata": {},
   "outputs": [],
   "source": [
    "#!/usr/bin/env python3\n",
    "\n",
    "import sys\n",
    "import re\n",
    "\n",
    "tweet = None\n",
    "oldKey = None\n",
    "Date = None\n",
    "\n",
    "# It will be in the format key,val\n",
    "# Where key is the date, val is the tweet with all non-alpha characters removed\n",
    "\n",
    "for line in sys.stdin:\n",
    "    data_mapped = line.strip().split(\",\")\n",
    "    if len(data_mapped) != 3:\n",
    "        # Something has gone wrong. Skip this line.\n",
    "        continue\n",
    "\n",
    "    thisKey, Date, thisTweet = data_mapped\n",
    "\n",
    "    if oldKey and oldKey != thisKey:\n",
    "        print(oldKey, \",\", Date, \",\", tweet)\n",
    "        oldKey = thisKey;\n",
    "        tweet = re.sub(r'[^\\w\\s]', '', thisTweet)\n",
    "\n",
    "    oldKey = thisKey\n",
    "    tweet = re.sub(r'[^\\w\\s]', '', thisTweet)\n",
    "\n",
    "if oldKey != None:\n",
    "    print(oldKey, \",\", Date, \",\", tweet)"
   ]
  }
 ],
 "metadata": {
  "kernelspec": {
   "display_name": "Python 3 (ipykernel)",
   "language": "python",
   "name": "python3"
  },
  "language_info": {
   "codemirror_mode": {
    "name": "ipython",
    "version": 3
   },
   "file_extension": ".py",
   "mimetype": "text/x-python",
   "name": "python",
   "nbconvert_exporter": "python",
   "pygments_lexer": "ipython3",
   "version": "3.11.5"
  }
 },
 "nbformat": 4,
 "nbformat_minor": 5
}
