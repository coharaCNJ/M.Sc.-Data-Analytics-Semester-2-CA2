{
 "cells": [
  {
   "cell_type": "code",
   "execution_count": 5,
   "id": "a82d5130",
   "metadata": {},
   "outputs": [],
   "source": [
    "import pandas as pd\n",
    "import os"
   ]
  },
  {
   "cell_type": "code",
   "execution_count": 6,
   "id": "70243e65",
   "metadata": {
    "scrolled": true
   },
   "outputs": [],
   "source": [
    "pwd = os.getcwd()\n",
    "tweets = pd.read_csv(pwd + \"/tweet_output/part-00000.txt\", header=None, index_col=0)"
   ]
  },
  {
   "cell_type": "code",
   "execution_count": 7,
   "id": "9419c8c0",
   "metadata": {},
   "outputs": [
    {
     "data": {
      "text/html": [
       "<div>\n",
       "<style scoped>\n",
       "    .dataframe tbody tr th:only-of-type {\n",
       "        vertical-align: middle;\n",
       "    }\n",
       "\n",
       "    .dataframe tbody tr th {\n",
       "        vertical-align: top;\n",
       "    }\n",
       "\n",
       "    .dataframe thead th {\n",
       "        text-align: right;\n",
       "    }\n",
       "</style>\n",
       "<table border=\"1\" class=\"dataframe\">\n",
       "  <thead>\n",
       "    <tr style=\"text-align: right;\">\n",
       "      <th></th>\n",
       "      <th>1</th>\n",
       "    </tr>\n",
       "    <tr>\n",
       "      <th>0</th>\n",
       "      <th></th>\n",
       "    </tr>\n",
       "  </thead>\n",
       "  <tbody>\n",
       "    <tr>\n",
       "      <th>Fri Apr 17 20:30:31 PDT 2009</th>\n",
       "      <td>Working on my songg for aunt nan   kinda hard...</td>\n",
       "    </tr>\n",
       "    <tr>\n",
       "      <th>Fri Apr 17 20:30:43 PDT 2009</th>\n",
       "      <td>taking some much needed naked time  too bad i...</td>\n",
       "    </tr>\n",
       "    <tr>\n",
       "      <th>Fri Apr 17 20:30:44 PDT 2009</th>\n",
       "      <td>latinluvly aww why not  They r the cutest thi...</td>\n",
       "    </tr>\n",
       "    <tr>\n",
       "      <th>Fri Apr 17 20:30:45 PDT 2009</th>\n",
       "      <td>chriswhill sweet  Josh is at work though\\t</td>\n",
       "    </tr>\n",
       "    <tr>\n",
       "      <th>Fri Apr 17 20:30:47 PDT 2009</th>\n",
       "      <td>Im losing followers lol\\t</td>\n",
       "    </tr>\n",
       "  </tbody>\n",
       "</table>\n",
       "</div>"
      ],
      "text/plain": [
       "                                                                               1\n",
       "0                                                                               \n",
       "Fri Apr 17 20:30:31 PDT 2009    Working on my songg for aunt nan   kinda hard...\n",
       "Fri Apr 17 20:30:43 PDT 2009    taking some much needed naked time  too bad i...\n",
       "Fri Apr 17 20:30:44 PDT 2009    latinluvly aww why not  They r the cutest thi...\n",
       "Fri Apr 17 20:30:45 PDT 2009          chriswhill sweet  Josh is at work though\\t\n",
       "Fri Apr 17 20:30:47 PDT 2009                           Im losing followers lol\\t"
      ]
     },
     "execution_count": 7,
     "metadata": {},
     "output_type": "execute_result"
    }
   ],
   "source": [
    "tweets.head()"
   ]
  },
  {
   "cell_type": "code",
   "execution_count": 11,
   "id": "f435bd88",
   "metadata": {},
   "outputs": [
    {
     "data": {
      "text/plain": [
       "675066"
      ]
     },
     "execution_count": 11,
     "metadata": {},
     "output_type": "execute_result"
    }
   ],
   "source": [
    "len(tweets)"
   ]
  },
  {
   "cell_type": "code",
   "execution_count": null,
   "id": "04465108",
   "metadata": {},
   "outputs": [],
   "source": []
  }
 ],
 "metadata": {
  "kernelspec": {
   "display_name": "Python 3 (ipykernel)",
   "language": "python",
   "name": "python3"
  },
  "language_info": {
   "codemirror_mode": {
    "name": "ipython",
    "version": 3
   },
   "file_extension": ".py",
   "mimetype": "text/x-python",
   "name": "python",
   "nbconvert_exporter": "python",
   "pygments_lexer": "ipython3",
   "version": "3.11.5"
  }
 },
 "nbformat": 4,
 "nbformat_minor": 5
}
